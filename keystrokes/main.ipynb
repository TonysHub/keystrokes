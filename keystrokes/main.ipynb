{
 "cells": [
  {
   "cell_type": "code",
   "execution_count": 5,
   "metadata": {},
   "outputs": [
    {
     "data": {
      "text/html": [
       "<div>\n",
       "<style scoped>\n",
       "    .dataframe tbody tr th:only-of-type {\n",
       "        vertical-align: middle;\n",
       "    }\n",
       "\n",
       "    .dataframe tbody tr th {\n",
       "        vertical-align: top;\n",
       "    }\n",
       "\n",
       "    .dataframe thead th {\n",
       "        text-align: right;\n",
       "    }\n",
       "</style>\n",
       "<table border=\"1\" class=\"dataframe\">\n",
       "  <thead>\n",
       "    <tr style=\"text-align: right;\">\n",
       "      <th>results.title</th>\n",
       "      <th>애플</th>\n",
       "    </tr>\n",
       "    <tr>\n",
       "      <th>period</th>\n",
       "      <th></th>\n",
       "    </tr>\n",
       "  </thead>\n",
       "  <tbody>\n",
       "    <tr>\n",
       "      <th>2023-02-10</th>\n",
       "      <td>95.78</td>\n",
       "    </tr>\n",
       "    <tr>\n",
       "      <th>2023-02-11</th>\n",
       "      <td>85.94</td>\n",
       "    </tr>\n",
       "    <tr>\n",
       "      <th>2023-02-12</th>\n",
       "      <td>81.57</td>\n",
       "    </tr>\n",
       "    <tr>\n",
       "      <th>2023-02-13</th>\n",
       "      <td>99.82</td>\n",
       "    </tr>\n",
       "    <tr>\n",
       "      <th>2023-02-14</th>\n",
       "      <td>99.68</td>\n",
       "    </tr>\n",
       "  </tbody>\n",
       "</table>\n",
       "</div>"
      ],
      "text/plain": [
       "results.title    애플\n",
       "period             \n",
       "2023-02-10    95.78\n",
       "2023-02-11    85.94\n",
       "2023-02-12    81.57\n",
       "2023-02-13    99.82\n",
       "2023-02-14    99.68"
      ]
     },
     "execution_count": 5,
     "metadata": {},
     "output_type": "execute_result"
    }
   ],
   "source": [
    "import api\n",
    "import pandas as pd\n",
    "pd.set_option('display.max_columns', None)\n",
    "pd.set_option('display.max_rows', None)\n",
    "pd.set_option('display.max_colwidth', None)\n",
    "\n",
    "\n",
    "startDate = \"2023-02-10\"\n",
    "endDate = \"2023-03-08\"\n",
    "timeUnit = 'date'\n",
    "device = ''\n",
    "ages = []\n",
    "gender = ''\n",
    "\n",
    "keyword_group_set = {\n",
    "    'keyword_group_1': {'groupName': \"애플\", 'keywords': [\"애플\",\"Apple\",\"AAPL\"]},\n",
    "    'keyword_group_2': {'groupName': \"아마존\", 'keywords': [\"아마존\",\"Amazon\",\"AMZN\"]},\n",
    "    'keyword_group_3': {'groupName': \"구글\", 'keywords': [\"구글\",\"Google\",\"GOOGL\"]},\n",
    "    'keyword_group_4': {'groupName': \"테슬라\", 'keywords': [\"테슬라\",\"Tesla\",\"TSLA\"]},\n",
    "    'keyword_group_5': {'groupName': \"페이스북\", 'keywords': [\"페이스북\",\"Facebook\",\"FB\"]}\n",
    "}\n",
    "\n",
    "\n",
    "search = api.NaverSearchAPI()\n",
    "search.add_keyword_group(keyword_group_set['keyword_group_1'])\n",
    "# search.add_keyword_group(keyword_group_set['keyword_group_2'])\n",
    "# search.add_keyword_group(keyword_group_set['keyword_group_3'])\n",
    "\n",
    "search_df = search.get_data(startDate, endDate, timeUnit, ages, gender, device)\n",
    "search_df.head()\n",
    "\n"
   ]
  },
  {
   "cell_type": "code",
   "execution_count": 7,
   "metadata": {},
   "outputs": [
    {
     "data": {
      "text/html": [
       "<div>\n",
       "<style scoped>\n",
       "    .dataframe tbody tr th:only-of-type {\n",
       "        vertical-align: middle;\n",
       "    }\n",
       "\n",
       "    .dataframe tbody tr th {\n",
       "        vertical-align: top;\n",
       "    }\n",
       "\n",
       "    .dataframe thead th {\n",
       "        text-align: right;\n",
       "    }\n",
       "</style>\n",
       "<table border=\"1\" class=\"dataframe\">\n",
       "  <thead>\n",
       "    <tr style=\"text-align: right;\">\n",
       "      <th></th>\n",
       "      <th>연관키워드</th>\n",
       "      <th>월간검색수_PC</th>\n",
       "      <th>월간검색수_모바일</th>\n",
       "      <th>월평균클릭수_PC</th>\n",
       "      <th>월평균클릭수_모바일</th>\n",
       "      <th>월평균클릭률_PC</th>\n",
       "      <th>월평균클릭률_모바일</th>\n",
       "      <th>월평균노출광고수</th>\n",
       "      <th>경쟁정도</th>\n",
       "    </tr>\n",
       "  </thead>\n",
       "  <tbody>\n",
       "    <tr>\n",
       "      <th>0</th>\n",
       "      <td>가무치</td>\n",
       "      <td>240</td>\n",
       "      <td>1160</td>\n",
       "      <td>17.00</td>\n",
       "      <td>86.00</td>\n",
       "      <td>12.60</td>\n",
       "      <td>11.16</td>\n",
       "      <td>1</td>\n",
       "      <td>낮음</td>\n",
       "    </tr>\n",
       "  </tbody>\n",
       "</table>\n",
       "</div>"
      ],
      "text/plain": [
       "  연관키워드  월간검색수_PC  월간검색수_모바일  월평균클릭수_PC  월평균클릭수_모바일  월평균클릭률_PC  월평균클릭률_모바일  \\\n",
       "0   가무치       240       1160      17.00       86.00      12.60       11.16   \n",
       "\n",
       "   월평균노출광고수 경쟁정도  \n",
       "0         1   낮음  "
      ]
     },
     "execution_count": 7,
     "metadata": {},
     "output_type": "execute_result"
    }
   ],
   "source": [
    "ads = api.NaverAdsAPI()\n",
    "r = ads.get_keywords(keyword=\"가무치\")\n",
    "r"
   ]
  },
  {
   "cell_type": "code",
   "execution_count": null,
   "metadata": {},
   "outputs": [],
   "source": []
  }
 ],
 "metadata": {
  "kernelspec": {
   "display_name": "venv",
   "language": "python",
   "name": "python3"
  },
  "language_info": {
   "codemirror_mode": {
    "name": "ipython",
    "version": 3
   },
   "file_extension": ".py",
   "mimetype": "text/x-python",
   "name": "python",
   "nbconvert_exporter": "python",
   "pygments_lexer": "ipython3",
   "version": "3.11.1"
  },
  "orig_nbformat": 4
 },
 "nbformat": 4,
 "nbformat_minor": 2
}
